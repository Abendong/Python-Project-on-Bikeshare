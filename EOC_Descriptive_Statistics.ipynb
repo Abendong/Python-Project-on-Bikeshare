{
 "cells": [
  {
   "cell_type": "code",
   "execution_count": 28,
   "id": "b5417b7b",
   "metadata": {},
   "outputs": [],
   "source": [
    "sample = [1,2,3,5,4,0.9,26,31,420,3,4,2,7]\n",
    "cutoff = 2"
   ]
  },
  {
   "cell_type": "code",
   "execution_count": 32,
   "id": "b8ce9ea4",
   "metadata": {},
   "outputs": [
    {
     "data": {
      "text/plain": [
       "(2.7666666666666666, 1.3299958228840003)"
      ]
     },
     "execution_count": 32,
     "metadata": {},
     "output_type": "execute_result"
    }
   ],
   "source": [
    "def mean_and_std(sample):\n",
    "    #create variables for mean and std from a sample\n",
    "    value_for_mean =0\n",
    "    for i in sample:\n",
    "        value_for_mean = value_for_mean + i\n",
    "    mean = value_for_mean/len(sample)\n",
    "    standard_value = []\n",
    "    for i in sample:\n",
    "        standard_value.append(i-mean)\n",
    "    standard_value_square = []\n",
    "    for i in standard_value:\n",
    "        \n",
    "        standard_value_square.append(i**2)\n",
    "        sum_standard_value =  sum(standard_value_square)\n",
    "    variance = (sum_standard_value)/len(sample)\n",
    "    #print (variance)\n",
    "    std = (variance)**(1/2)\n",
    "    return mean, std\n",
    "mean_and_std(sample)"
   ]
  },
  {
   "cell_type": "code",
   "execution_count": 33,
   "id": "98d44a42",
   "metadata": {
    "scrolled": true
   },
   "outputs": [
    {
     "data": {
      "text/plain": [
       "2.77"
      ]
     },
     "execution_count": 33,
     "metadata": {},
     "output_type": "execute_result"
    }
   ],
   "source": [
    "def validation(sample, cutoff):\n",
    "    #get mean and std from the previous function and return the new mean\n",
    "    #with precision of 2 decimal points\n",
    "    \n",
    "    while True:\n",
    "        mean, std = mean_and_std(sample)\n",
    "        outliers = 0\n",
    "        for x in sample:\n",
    "            if x > mean + (std * cutoff) or x < mean - (std * cutoff) :\n",
    "                #print(x)\n",
    "                sample.remove(x) \n",
    "                outliers += 1\n",
    "        if outliers == 0:\n",
    "            break\n",
    "        #you can see here the variables to understand what you have        \n",
    "        #print(mean,std, outliers)\n",
    "    new_mean, new_std = round(mean,2), std\n",
    "    return new_mean\n",
    "validation(sample, cutoff)"
   ]
  },
  {
   "cell_type": "code",
   "execution_count": null,
   "id": "0c0d11a6",
   "metadata": {},
   "outputs": [],
   "source": []
  }
 ],
 "metadata": {
  "kernelspec": {
   "display_name": "Python 3",
   "language": "python",
   "name": "python3"
  },
  "language_info": {
   "codemirror_mode": {
    "name": "ipython",
    "version": 3
   },
   "file_extension": ".py",
   "mimetype": "text/x-python",
   "name": "python",
   "nbconvert_exporter": "python",
   "pygments_lexer": "ipython3",
   "version": "3.8.8"
  }
 },
 "nbformat": 4,
 "nbformat_minor": 5
}
