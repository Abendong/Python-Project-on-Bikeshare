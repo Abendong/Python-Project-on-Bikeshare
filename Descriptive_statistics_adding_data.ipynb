{
 "cells": [
  {
   "cell_type": "code",
   "execution_count": 1,
   "id": "b71132b3",
   "metadata": {},
   "outputs": [
    {
     "name": "stderr",
     "output_type": "stream",
     "text": [
      "Matplotlib is building the font cache; this may take a moment.\n"
     ]
    }
   ],
   "source": [
    "import pandas as pd\n",
    "import numpy as np\n",
    "import random\n",
    "import matplotlib.pyplot as plt\n"
   ]
  },
  {
   "cell_type": "code",
   "execution_count": 2,
   "id": "6da290b4",
   "metadata": {},
   "outputs": [],
   "source": [
    "df = pd.read_csv('student_data.csv', usecols=[\"sex\", \"age\"])"
   ]
  },
  {
   "cell_type": "code",
   "execution_count": 4,
   "id": "4c2385ce",
   "metadata": {},
   "outputs": [
    {
     "data": {
      "text/html": [
       "<div>\n",
       "<style scoped>\n",
       "    .dataframe tbody tr th:only-of-type {\n",
       "        vertical-align: middle;\n",
       "    }\n",
       "\n",
       "    .dataframe tbody tr th {\n",
       "        vertical-align: top;\n",
       "    }\n",
       "\n",
       "    .dataframe thead th {\n",
       "        text-align: right;\n",
       "    }\n",
       "</style>\n",
       "<table border=\"1\" class=\"dataframe\">\n",
       "  <thead>\n",
       "    <tr style=\"text-align: right;\">\n",
       "      <th></th>\n",
       "      <th>sex</th>\n",
       "      <th>age</th>\n",
       "    </tr>\n",
       "  </thead>\n",
       "  <tbody>\n",
       "    <tr>\n",
       "      <th>0</th>\n",
       "      <td>F</td>\n",
       "      <td>18</td>\n",
       "    </tr>\n",
       "    <tr>\n",
       "      <th>1</th>\n",
       "      <td>F</td>\n",
       "      <td>17</td>\n",
       "    </tr>\n",
       "    <tr>\n",
       "      <th>2</th>\n",
       "      <td>F</td>\n",
       "      <td>15</td>\n",
       "    </tr>\n",
       "    <tr>\n",
       "      <th>3</th>\n",
       "      <td>F</td>\n",
       "      <td>15</td>\n",
       "    </tr>\n",
       "    <tr>\n",
       "      <th>4</th>\n",
       "      <td>F</td>\n",
       "      <td>16</td>\n",
       "    </tr>\n",
       "  </tbody>\n",
       "</table>\n",
       "</div>"
      ],
      "text/plain": [
       "  sex  age\n",
       "0   F   18\n",
       "1   F   17\n",
       "2   F   15\n",
       "3   F   15\n",
       "4   F   16"
      ]
     },
     "execution_count": 4,
     "metadata": {},
     "output_type": "execute_result"
    }
   ],
   "source": [
    "df.head()"
   ]
  },
  {
   "cell_type": "code",
   "execution_count": 8,
   "id": "59657e8c",
   "metadata": {},
   "outputs": [],
   "source": [
    "string_of_months = \"January, Febrary, March, April, May, June, July, August, September, October, Novenber, December\""
   ]
  },
  {
   "cell_type": "code",
   "execution_count": 7,
   "id": "a665c3f0",
   "metadata": {},
   "outputs": [],
   "source": [
    "#How to turn a string into a list of strings\n",
    "list_of_months = string_of_months.split(\", \")"
   ]
  },
  {
   "cell_type": "code",
   "execution_count": 9,
   "id": "095ba462",
   "metadata": {},
   "outputs": [
    {
     "data": {
      "text/plain": [
       "['January',\n",
       " 'Febrary',\n",
       " 'March',\n",
       " 'April',\n",
       " 'May',\n",
       " 'June',\n",
       " 'July',\n",
       " 'August',\n",
       " 'September',\n",
       " 'October']"
      ]
     },
     "execution_count": 9,
     "metadata": {},
     "output_type": "execute_result"
    }
   ],
   "source": [
    "list_of_months[:-2]"
   ]
  },
  {
   "cell_type": "code",
   "execution_count": 10,
   "id": "57107ad0",
   "metadata": {},
   "outputs": [],
   "source": [
    "df['month_of birth'] = random.choices(list_of_months, k=len(df))\n",
    "df['special_month'] = random.choices(list_of_months[:-2], k=len(df))"
   ]
  },
  {
   "cell_type": "code",
   "execution_count": 11,
   "id": "47848552",
   "metadata": {},
   "outputs": [
    {
     "data": {
      "text/html": [
       "<div>\n",
       "<style scoped>\n",
       "    .dataframe tbody tr th:only-of-type {\n",
       "        vertical-align: middle;\n",
       "    }\n",
       "\n",
       "    .dataframe tbody tr th {\n",
       "        vertical-align: top;\n",
       "    }\n",
       "\n",
       "    .dataframe thead th {\n",
       "        text-align: right;\n",
       "    }\n",
       "</style>\n",
       "<table border=\"1\" class=\"dataframe\">\n",
       "  <thead>\n",
       "    <tr style=\"text-align: right;\">\n",
       "      <th></th>\n",
       "      <th>sex</th>\n",
       "      <th>age</th>\n",
       "      <th>month_of birth</th>\n",
       "      <th>special_month</th>\n",
       "    </tr>\n",
       "  </thead>\n",
       "  <tbody>\n",
       "    <tr>\n",
       "      <th>0</th>\n",
       "      <td>F</td>\n",
       "      <td>18</td>\n",
       "      <td>December</td>\n",
       "      <td>March</td>\n",
       "    </tr>\n",
       "    <tr>\n",
       "      <th>1</th>\n",
       "      <td>F</td>\n",
       "      <td>17</td>\n",
       "      <td>March</td>\n",
       "      <td>January</td>\n",
       "    </tr>\n",
       "    <tr>\n",
       "      <th>2</th>\n",
       "      <td>F</td>\n",
       "      <td>15</td>\n",
       "      <td>August</td>\n",
       "      <td>September</td>\n",
       "    </tr>\n",
       "    <tr>\n",
       "      <th>3</th>\n",
       "      <td>F</td>\n",
       "      <td>15</td>\n",
       "      <td>September</td>\n",
       "      <td>March</td>\n",
       "    </tr>\n",
       "    <tr>\n",
       "      <th>4</th>\n",
       "      <td>F</td>\n",
       "      <td>16</td>\n",
       "      <td>August</td>\n",
       "      <td>May</td>\n",
       "    </tr>\n",
       "  </tbody>\n",
       "</table>\n",
       "</div>"
      ],
      "text/plain": [
       "  sex  age month_of birth special_month\n",
       "0   F   18       December         March\n",
       "1   F   17          March       January\n",
       "2   F   15         August     September\n",
       "3   F   15      September         March\n",
       "4   F   16         August           May"
      ]
     },
     "execution_count": 11,
     "metadata": {},
     "output_type": "execute_result"
    }
   ],
   "source": [
    "df.head()"
   ]
  },
  {
   "cell_type": "code",
   "execution_count": 12,
   "id": "20beb52e",
   "metadata": {},
   "outputs": [],
   "source": [
    "df['normal']= np.random.normal(150,5, size=len(df))"
   ]
  },
  {
   "cell_type": "code",
   "execution_count": 13,
   "id": "6419436c",
   "metadata": {},
   "outputs": [],
   "source": [
    "df['weird_dist'] = [np.log(x+1)+1 if x<350 else x for x in df.index]#"
   ]
  },
  {
   "cell_type": "code",
   "execution_count": 14,
   "id": "7589787b",
   "metadata": {},
   "outputs": [
    {
     "data": {
      "text/html": [
       "<div>\n",
       "<style scoped>\n",
       "    .dataframe tbody tr th:only-of-type {\n",
       "        vertical-align: middle;\n",
       "    }\n",
       "\n",
       "    .dataframe tbody tr th {\n",
       "        vertical-align: top;\n",
       "    }\n",
       "\n",
       "    .dataframe thead th {\n",
       "        text-align: right;\n",
       "    }\n",
       "</style>\n",
       "<table border=\"1\" class=\"dataframe\">\n",
       "  <thead>\n",
       "    <tr style=\"text-align: right;\">\n",
       "      <th></th>\n",
       "      <th>sex</th>\n",
       "      <th>age</th>\n",
       "      <th>month_of birth</th>\n",
       "      <th>special_month</th>\n",
       "      <th>normal</th>\n",
       "      <th>weird_dist</th>\n",
       "    </tr>\n",
       "  </thead>\n",
       "  <tbody>\n",
       "    <tr>\n",
       "      <th>0</th>\n",
       "      <td>F</td>\n",
       "      <td>18</td>\n",
       "      <td>December</td>\n",
       "      <td>March</td>\n",
       "      <td>150.716651</td>\n",
       "      <td>1.000000</td>\n",
       "    </tr>\n",
       "    <tr>\n",
       "      <th>1</th>\n",
       "      <td>F</td>\n",
       "      <td>17</td>\n",
       "      <td>March</td>\n",
       "      <td>January</td>\n",
       "      <td>152.463597</td>\n",
       "      <td>1.693147</td>\n",
       "    </tr>\n",
       "    <tr>\n",
       "      <th>2</th>\n",
       "      <td>F</td>\n",
       "      <td>15</td>\n",
       "      <td>August</td>\n",
       "      <td>September</td>\n",
       "      <td>148.750486</td>\n",
       "      <td>2.098612</td>\n",
       "    </tr>\n",
       "    <tr>\n",
       "      <th>3</th>\n",
       "      <td>F</td>\n",
       "      <td>15</td>\n",
       "      <td>September</td>\n",
       "      <td>March</td>\n",
       "      <td>143.158397</td>\n",
       "      <td>2.386294</td>\n",
       "    </tr>\n",
       "    <tr>\n",
       "      <th>4</th>\n",
       "      <td>F</td>\n",
       "      <td>16</td>\n",
       "      <td>August</td>\n",
       "      <td>May</td>\n",
       "      <td>139.326865</td>\n",
       "      <td>2.609438</td>\n",
       "    </tr>\n",
       "  </tbody>\n",
       "</table>\n",
       "</div>"
      ],
      "text/plain": [
       "  sex  age month_of birth special_month      normal  weird_dist\n",
       "0   F   18       December         March  150.716651    1.000000\n",
       "1   F   17          March       January  152.463597    1.693147\n",
       "2   F   15         August     September  148.750486    2.098612\n",
       "3   F   15      September         March  143.158397    2.386294\n",
       "4   F   16         August           May  139.326865    2.609438"
      ]
     },
     "execution_count": 14,
     "metadata": {},
     "output_type": "execute_result"
    }
   ],
   "source": [
    "df.head()"
   ]
  },
  {
   "cell_type": "code",
   "execution_count": 16,
   "id": "8a2db36d",
   "metadata": {},
   "outputs": [
    {
     "data": {
      "text/html": [
       "<div>\n",
       "<style scoped>\n",
       "    .dataframe tbody tr th:only-of-type {\n",
       "        vertical-align: middle;\n",
       "    }\n",
       "\n",
       "    .dataframe tbody tr th {\n",
       "        vertical-align: top;\n",
       "    }\n",
       "\n",
       "    .dataframe thead th {\n",
       "        text-align: right;\n",
       "    }\n",
       "</style>\n",
       "<table border=\"1\" class=\"dataframe\">\n",
       "  <thead>\n",
       "    <tr style=\"text-align: right;\">\n",
       "      <th></th>\n",
       "      <th>age</th>\n",
       "      <th>normal</th>\n",
       "      <th>weird_dist</th>\n",
       "    </tr>\n",
       "  </thead>\n",
       "  <tbody>\n",
       "    <tr>\n",
       "      <th>count</th>\n",
       "      <td>395.000000</td>\n",
       "      <td>395.000000</td>\n",
       "      <td>395.000000</td>\n",
       "    </tr>\n",
       "    <tr>\n",
       "      <th>mean</th>\n",
       "      <td>16.696203</td>\n",
       "      <td>149.567240</td>\n",
       "      <td>47.580063</td>\n",
       "    </tr>\n",
       "    <tr>\n",
       "      <th>std</th>\n",
       "      <td>1.276043</td>\n",
       "      <td>5.210421</td>\n",
       "      <td>116.560561</td>\n",
       "    </tr>\n",
       "    <tr>\n",
       "      <th>min</th>\n",
       "      <td>15.000000</td>\n",
       "      <td>134.041757</td>\n",
       "      <td>1.000000</td>\n",
       "    </tr>\n",
       "    <tr>\n",
       "      <th>25%</th>\n",
       "      <td>16.000000</td>\n",
       "      <td>146.232448</td>\n",
       "      <td>5.600145</td>\n",
       "    </tr>\n",
       "    <tr>\n",
       "      <th>50%</th>\n",
       "      <td>17.000000</td>\n",
       "      <td>149.820332</td>\n",
       "      <td>6.288267</td>\n",
       "    </tr>\n",
       "    <tr>\n",
       "      <th>75%</th>\n",
       "      <td>18.000000</td>\n",
       "      <td>152.806020</td>\n",
       "      <td>6.692046</td>\n",
       "    </tr>\n",
       "    <tr>\n",
       "      <th>max</th>\n",
       "      <td>22.000000</td>\n",
       "      <td>167.020580</td>\n",
       "      <td>394.000000</td>\n",
       "    </tr>\n",
       "  </tbody>\n",
       "</table>\n",
       "</div>"
      ],
      "text/plain": [
       "              age      normal  weird_dist\n",
       "count  395.000000  395.000000  395.000000\n",
       "mean    16.696203  149.567240   47.580063\n",
       "std      1.276043    5.210421  116.560561\n",
       "min     15.000000  134.041757    1.000000\n",
       "25%     16.000000  146.232448    5.600145\n",
       "50%     17.000000  149.820332    6.288267\n",
       "75%     18.000000  152.806020    6.692046\n",
       "max     22.000000  167.020580  394.000000"
      ]
     },
     "execution_count": 16,
     "metadata": {},
     "output_type": "execute_result"
    }
   ],
   "source": [
    "df.describe()"
   ]
  },
  {
   "cell_type": "code",
   "execution_count": 17,
   "id": "4b7034ad",
   "metadata": {},
   "outputs": [
    {
     "data": {
      "text/html": [
       "<div>\n",
       "<style scoped>\n",
       "    .dataframe tbody tr th:only-of-type {\n",
       "        vertical-align: middle;\n",
       "    }\n",
       "\n",
       "    .dataframe tbody tr th {\n",
       "        vertical-align: top;\n",
       "    }\n",
       "\n",
       "    .dataframe thead th {\n",
       "        text-align: right;\n",
       "    }\n",
       "</style>\n",
       "<table border=\"1\" class=\"dataframe\">\n",
       "  <thead>\n",
       "    <tr style=\"text-align: right;\">\n",
       "      <th></th>\n",
       "      <th>sex</th>\n",
       "      <th>age</th>\n",
       "      <th>month_of birth</th>\n",
       "      <th>special_month</th>\n",
       "      <th>normal</th>\n",
       "      <th>weird_dist</th>\n",
       "    </tr>\n",
       "  </thead>\n",
       "  <tbody>\n",
       "    <tr>\n",
       "      <th>count</th>\n",
       "      <td>395</td>\n",
       "      <td>395.000000</td>\n",
       "      <td>395</td>\n",
       "      <td>395</td>\n",
       "      <td>395.000000</td>\n",
       "      <td>395.000000</td>\n",
       "    </tr>\n",
       "    <tr>\n",
       "      <th>unique</th>\n",
       "      <td>2</td>\n",
       "      <td>NaN</td>\n",
       "      <td>12</td>\n",
       "      <td>10</td>\n",
       "      <td>NaN</td>\n",
       "      <td>NaN</td>\n",
       "    </tr>\n",
       "    <tr>\n",
       "      <th>top</th>\n",
       "      <td>F</td>\n",
       "      <td>NaN</td>\n",
       "      <td>August</td>\n",
       "      <td>September</td>\n",
       "      <td>NaN</td>\n",
       "      <td>NaN</td>\n",
       "    </tr>\n",
       "    <tr>\n",
       "      <th>freq</th>\n",
       "      <td>208</td>\n",
       "      <td>NaN</td>\n",
       "      <td>43</td>\n",
       "      <td>50</td>\n",
       "      <td>NaN</td>\n",
       "      <td>NaN</td>\n",
       "    </tr>\n",
       "    <tr>\n",
       "      <th>mean</th>\n",
       "      <td>NaN</td>\n",
       "      <td>16.696203</td>\n",
       "      <td>NaN</td>\n",
       "      <td>NaN</td>\n",
       "      <td>149.567240</td>\n",
       "      <td>47.580063</td>\n",
       "    </tr>\n",
       "    <tr>\n",
       "      <th>std</th>\n",
       "      <td>NaN</td>\n",
       "      <td>1.276043</td>\n",
       "      <td>NaN</td>\n",
       "      <td>NaN</td>\n",
       "      <td>5.210421</td>\n",
       "      <td>116.560561</td>\n",
       "    </tr>\n",
       "    <tr>\n",
       "      <th>min</th>\n",
       "      <td>NaN</td>\n",
       "      <td>15.000000</td>\n",
       "      <td>NaN</td>\n",
       "      <td>NaN</td>\n",
       "      <td>134.041757</td>\n",
       "      <td>1.000000</td>\n",
       "    </tr>\n",
       "    <tr>\n",
       "      <th>25%</th>\n",
       "      <td>NaN</td>\n",
       "      <td>16.000000</td>\n",
       "      <td>NaN</td>\n",
       "      <td>NaN</td>\n",
       "      <td>146.232448</td>\n",
       "      <td>5.600145</td>\n",
       "    </tr>\n",
       "    <tr>\n",
       "      <th>50%</th>\n",
       "      <td>NaN</td>\n",
       "      <td>17.000000</td>\n",
       "      <td>NaN</td>\n",
       "      <td>NaN</td>\n",
       "      <td>149.820332</td>\n",
       "      <td>6.288267</td>\n",
       "    </tr>\n",
       "    <tr>\n",
       "      <th>75%</th>\n",
       "      <td>NaN</td>\n",
       "      <td>18.000000</td>\n",
       "      <td>NaN</td>\n",
       "      <td>NaN</td>\n",
       "      <td>152.806020</td>\n",
       "      <td>6.692046</td>\n",
       "    </tr>\n",
       "    <tr>\n",
       "      <th>max</th>\n",
       "      <td>NaN</td>\n",
       "      <td>22.000000</td>\n",
       "      <td>NaN</td>\n",
       "      <td>NaN</td>\n",
       "      <td>167.020580</td>\n",
       "      <td>394.000000</td>\n",
       "    </tr>\n",
       "  </tbody>\n",
       "</table>\n",
       "</div>"
      ],
      "text/plain": [
       "        sex         age month_of birth special_month      normal  weird_dist\n",
       "count   395  395.000000            395           395  395.000000  395.000000\n",
       "unique    2         NaN             12            10         NaN         NaN\n",
       "top       F         NaN         August     September         NaN         NaN\n",
       "freq    208         NaN             43            50         NaN         NaN\n",
       "mean    NaN   16.696203            NaN           NaN  149.567240   47.580063\n",
       "std     NaN    1.276043            NaN           NaN    5.210421  116.560561\n",
       "min     NaN   15.000000            NaN           NaN  134.041757    1.000000\n",
       "25%     NaN   16.000000            NaN           NaN  146.232448    5.600145\n",
       "50%     NaN   17.000000            NaN           NaN  149.820332    6.288267\n",
       "75%     NaN   18.000000            NaN           NaN  152.806020    6.692046\n",
       "max     NaN   22.000000            NaN           NaN  167.020580  394.000000"
      ]
     },
     "execution_count": 17,
     "metadata": {},
     "output_type": "execute_result"
    }
   ],
   "source": [
    "df.describe(include=\"all\")"
   ]
  },
  {
   "cell_type": "code",
   "execution_count": 18,
   "id": "cdc0ae3d",
   "metadata": {},
   "outputs": [
    {
     "data": {
      "text/html": [
       "<div>\n",
       "<style scoped>\n",
       "    .dataframe tbody tr th:only-of-type {\n",
       "        vertical-align: middle;\n",
       "    }\n",
       "\n",
       "    .dataframe tbody tr th {\n",
       "        vertical-align: top;\n",
       "    }\n",
       "\n",
       "    .dataframe thead th {\n",
       "        text-align: right;\n",
       "    }\n",
       "</style>\n",
       "<table border=\"1\" class=\"dataframe\">\n",
       "  <thead>\n",
       "    <tr style=\"text-align: right;\">\n",
       "      <th></th>\n",
       "      <th>sex</th>\n",
       "      <th>age</th>\n",
       "      <th>month_of birth</th>\n",
       "      <th>special_month</th>\n",
       "      <th>normal</th>\n",
       "      <th>weird_dist</th>\n",
       "    </tr>\n",
       "  </thead>\n",
       "  <tbody>\n",
       "    <tr>\n",
       "      <th>count</th>\n",
       "      <td>395</td>\n",
       "      <td>395.000000</td>\n",
       "      <td>395</td>\n",
       "      <td>395</td>\n",
       "      <td>395.000000</td>\n",
       "      <td>395.000000</td>\n",
       "    </tr>\n",
       "    <tr>\n",
       "      <th>unique</th>\n",
       "      <td>2</td>\n",
       "      <td>NaN</td>\n",
       "      <td>12</td>\n",
       "      <td>10</td>\n",
       "      <td>NaN</td>\n",
       "      <td>NaN</td>\n",
       "    </tr>\n",
       "    <tr>\n",
       "      <th>top</th>\n",
       "      <td>F</td>\n",
       "      <td>NaN</td>\n",
       "      <td>August</td>\n",
       "      <td>September</td>\n",
       "      <td>NaN</td>\n",
       "      <td>NaN</td>\n",
       "    </tr>\n",
       "    <tr>\n",
       "      <th>freq</th>\n",
       "      <td>208</td>\n",
       "      <td>NaN</td>\n",
       "      <td>43</td>\n",
       "      <td>50</td>\n",
       "      <td>NaN</td>\n",
       "      <td>NaN</td>\n",
       "    </tr>\n",
       "    <tr>\n",
       "      <th>mean</th>\n",
       "      <td>NaN</td>\n",
       "      <td>16.696203</td>\n",
       "      <td>NaN</td>\n",
       "      <td>NaN</td>\n",
       "      <td>149.567240</td>\n",
       "      <td>47.580063</td>\n",
       "    </tr>\n",
       "    <tr>\n",
       "      <th>std</th>\n",
       "      <td>NaN</td>\n",
       "      <td>1.276043</td>\n",
       "      <td>NaN</td>\n",
       "      <td>NaN</td>\n",
       "      <td>5.210421</td>\n",
       "      <td>116.560561</td>\n",
       "    </tr>\n",
       "    <tr>\n",
       "      <th>min</th>\n",
       "      <td>NaN</td>\n",
       "      <td>15.000000</td>\n",
       "      <td>NaN</td>\n",
       "      <td>NaN</td>\n",
       "      <td>134.041757</td>\n",
       "      <td>1.000000</td>\n",
       "    </tr>\n",
       "    <tr>\n",
       "      <th>20%</th>\n",
       "      <td>NaN</td>\n",
       "      <td>15.000000</td>\n",
       "      <td>NaN</td>\n",
       "      <td>NaN</td>\n",
       "      <td>145.350952</td>\n",
       "      <td>5.379511</td>\n",
       "    </tr>\n",
       "    <tr>\n",
       "      <th>40%</th>\n",
       "      <td>NaN</td>\n",
       "      <td>16.000000</td>\n",
       "      <td>NaN</td>\n",
       "      <td>NaN</td>\n",
       "      <td>148.544477</td>\n",
       "      <td>6.066381</td>\n",
       "    </tr>\n",
       "    <tr>\n",
       "      <th>50%</th>\n",
       "      <td>NaN</td>\n",
       "      <td>17.000000</td>\n",
       "      <td>NaN</td>\n",
       "      <td>NaN</td>\n",
       "      <td>149.820332</td>\n",
       "      <td>6.288267</td>\n",
       "    </tr>\n",
       "    <tr>\n",
       "      <th>60%</th>\n",
       "      <td>NaN</td>\n",
       "      <td>17.000000</td>\n",
       "      <td>NaN</td>\n",
       "      <td>NaN</td>\n",
       "      <td>150.960676</td>\n",
       "      <td>6.469744</td>\n",
       "    </tr>\n",
       "    <tr>\n",
       "      <th>80%</th>\n",
       "      <td>NaN</td>\n",
       "      <td>18.000000</td>\n",
       "      <td>NaN</td>\n",
       "      <td>NaN</td>\n",
       "      <td>153.726038</td>\n",
       "      <td>6.756374</td>\n",
       "    </tr>\n",
       "    <tr>\n",
       "      <th>max</th>\n",
       "      <td>NaN</td>\n",
       "      <td>22.000000</td>\n",
       "      <td>NaN</td>\n",
       "      <td>NaN</td>\n",
       "      <td>167.020580</td>\n",
       "      <td>394.000000</td>\n",
       "    </tr>\n",
       "  </tbody>\n",
       "</table>\n",
       "</div>"
      ],
      "text/plain": [
       "        sex         age month_of birth special_month      normal  weird_dist\n",
       "count   395  395.000000            395           395  395.000000  395.000000\n",
       "unique    2         NaN             12            10         NaN         NaN\n",
       "top       F         NaN         August     September         NaN         NaN\n",
       "freq    208         NaN             43            50         NaN         NaN\n",
       "mean    NaN   16.696203            NaN           NaN  149.567240   47.580063\n",
       "std     NaN    1.276043            NaN           NaN    5.210421  116.560561\n",
       "min     NaN   15.000000            NaN           NaN  134.041757    1.000000\n",
       "20%     NaN   15.000000            NaN           NaN  145.350952    5.379511\n",
       "40%     NaN   16.000000            NaN           NaN  148.544477    6.066381\n",
       "50%     NaN   17.000000            NaN           NaN  149.820332    6.288267\n",
       "60%     NaN   17.000000            NaN           NaN  150.960676    6.469744\n",
       "80%     NaN   18.000000            NaN           NaN  153.726038    6.756374\n",
       "max     NaN   22.000000            NaN           NaN  167.020580  394.000000"
      ]
     },
     "execution_count": 18,
     "metadata": {},
     "output_type": "execute_result"
    }
   ],
   "source": [
    "df.describe(percentiles=[.2,.4,.6,.8] , include=\"all\")"
   ]
  },
  {
   "cell_type": "code",
   "execution_count": 35,
   "id": "848dd5bc",
   "metadata": {},
   "outputs": [
    {
     "data": {
      "text/html": [
       "<div>\n",
       "<style scoped>\n",
       "    .dataframe tbody tr th:only-of-type {\n",
       "        vertical-align: middle;\n",
       "    }\n",
       "\n",
       "    .dataframe tbody tr th {\n",
       "        vertical-align: top;\n",
       "    }\n",
       "\n",
       "    .dataframe thead th {\n",
       "        text-align: right;\n",
       "    }\n",
       "</style>\n",
       "<table border=\"1\" class=\"dataframe\">\n",
       "  <thead>\n",
       "    <tr style=\"text-align: right;\">\n",
       "      <th></th>\n",
       "      <th>sex</th>\n",
       "      <th>age</th>\n",
       "      <th>month_of birth</th>\n",
       "      <th>special_month</th>\n",
       "      <th>normal</th>\n",
       "      <th>weird_dist</th>\n",
       "      <th>new_normal</th>\n",
       "    </tr>\n",
       "  </thead>\n",
       "  <tbody>\n",
       "    <tr>\n",
       "      <th>0</th>\n",
       "      <td>F</td>\n",
       "      <td>18</td>\n",
       "      <td>December</td>\n",
       "      <td>March</td>\n",
       "      <td>150.716651</td>\n",
       "      <td>1.000000</td>\n",
       "      <td>527</td>\n",
       "    </tr>\n",
       "    <tr>\n",
       "      <th>1</th>\n",
       "      <td>F</td>\n",
       "      <td>17</td>\n",
       "      <td>March</td>\n",
       "      <td>January</td>\n",
       "      <td>152.463597</td>\n",
       "      <td>1.693147</td>\n",
       "      <td>476</td>\n",
       "    </tr>\n",
       "    <tr>\n",
       "      <th>2</th>\n",
       "      <td>F</td>\n",
       "      <td>15</td>\n",
       "      <td>August</td>\n",
       "      <td>September</td>\n",
       "      <td>148.750486</td>\n",
       "      <td>2.098612</td>\n",
       "      <td>440</td>\n",
       "    </tr>\n",
       "    <tr>\n",
       "      <th>3</th>\n",
       "      <td>F</td>\n",
       "      <td>15</td>\n",
       "      <td>September</td>\n",
       "      <td>March</td>\n",
       "      <td>143.158397</td>\n",
       "      <td>2.386294</td>\n",
       "      <td>377</td>\n",
       "    </tr>\n",
       "    <tr>\n",
       "      <th>4</th>\n",
       "      <td>F</td>\n",
       "      <td>16</td>\n",
       "      <td>August</td>\n",
       "      <td>May</td>\n",
       "      <td>139.326865</td>\n",
       "      <td>2.609438</td>\n",
       "      <td>504</td>\n",
       "    </tr>\n",
       "  </tbody>\n",
       "</table>\n",
       "</div>"
      ],
      "text/plain": [
       "  sex  age month_of birth special_month      normal  weird_dist  new_normal\n",
       "0   F   18       December         March  150.716651    1.000000         527\n",
       "1   F   17          March       January  152.463597    1.693147         476\n",
       "2   F   15         August     September  148.750486    2.098612         440\n",
       "3   F   15      September         March  143.158397    2.386294         377\n",
       "4   F   16         August           May  139.326865    2.609438         504"
      ]
     },
     "execution_count": 35,
     "metadata": {},
     "output_type": "execute_result"
    }
   ],
   "source": [
    "df.head()"
   ]
  },
  {
   "cell_type": "code",
   "execution_count": 41,
   "id": "f2b432ae",
   "metadata": {},
   "outputs": [
    {
     "data": {
      "text/plain": [
       "['December', 'March', 'August', 'September', 'August', ..., 'Novenber', 'March', 'October', 'Novenber', 'June']\n",
       "Length: 395\n",
       "Categories (12, object): ['April', 'August', 'December', 'Febrary', ..., 'May', 'Novenber', 'October', 'September']"
      ]
     },
     "execution_count": 41,
     "metadata": {},
     "output_type": "execute_result"
    }
   ],
   "source": [
    "pd.Categorical(df['month_of birth'])"
   ]
  },
  {
   "cell_type": "code",
   "execution_count": 42,
   "id": "3b6d8afe",
   "metadata": {},
   "outputs": [
    {
     "data": {
      "text/plain": [
       "['March', 'January', 'September', 'March', 'May', ..., 'July', 'October', 'May', 'January', 'October']\n",
       "Length: 395\n",
       "Categories (10, object): ['April', 'August', 'Febrary', 'January', ..., 'March', 'May', 'October', 'September']"
      ]
     },
     "execution_count": 42,
     "metadata": {},
     "output_type": "execute_result"
    }
   ],
   "source": [
    "pd.Categorical(df['special_month'])"
   ]
  },
  {
   "cell_type": "code",
   "execution_count": 40,
   "id": "c973e5f2",
   "metadata": {},
   "outputs": [
    {
     "data": {
      "text/plain": [
       "['March', 'January', 'September', 'March', 'May', ..., 'July', 'October', 'May', 'January', 'October']\n",
       "Length: 395\n",
       "Categories (12, object): ['January', 'Febrary', 'March', 'April', ..., 'September', 'October', 'Novenber', 'December']"
      ]
     },
     "execution_count": 40,
     "metadata": {},
     "output_type": "execute_result"
    }
   ],
   "source": [
    "pd.Categorical(df['special_month'], categories=list_of_months)"
   ]
  },
  {
   "cell_type": "code",
   "execution_count": 45,
   "id": "6bc4c974",
   "metadata": {},
   "outputs": [
    {
     "data": {
      "text/plain": [
       "['December', 'March', 'August', 'September', 'August', ..., 'Novenber', 'March', 'October', 'Novenber', 'June']\n",
       "Length: 395\n",
       "Categories (12, object): ['January' < 'Febrary' < 'March' < 'April' ... 'September' < 'October' < 'Novenber' < 'December']"
      ]
     },
     "execution_count": 45,
     "metadata": {},
     "output_type": "execute_result"
    }
   ],
   "source": [
    "pd.Categorical(df['special_month'], categories=list_of_months, ordered=True)\n",
    "pd.Categorical(df['month_of birth'], categories=list_of_months, ordered=True)"
   ]
  },
  {
   "cell_type": "code",
   "execution_count": 46,
   "id": "ffd8da1a",
   "metadata": {},
   "outputs": [
    {
     "name": "stdout",
     "output_type": "stream",
     "text": [
      "<class 'pandas.core.frame.DataFrame'>\n",
      "RangeIndex: 395 entries, 0 to 394\n",
      "Data columns (total 7 columns):\n",
      " #   Column          Non-Null Count  Dtype   \n",
      "---  ------          --------------  -----   \n",
      " 0   sex             395 non-null    category\n",
      " 1   age             395 non-null    int64   \n",
      " 2   month_of birth  395 non-null    object  \n",
      " 3   special_month   395 non-null    object  \n",
      " 4   normal          395 non-null    float64 \n",
      " 5   weird_dist      395 non-null    float64 \n",
      " 6   new_normal      395 non-null    int64   \n",
      "dtypes: category(1), float64(2), int64(2), object(2)\n",
      "memory usage: 19.2+ KB\n"
     ]
    }
   ],
   "source": [
    "df.info()"
   ]
  },
  {
   "cell_type": "code",
   "execution_count": 51,
   "id": "045f8f51",
   "metadata": {},
   "outputs": [
    {
     "data": {
      "text/plain": [
       "0     December\n",
       "1        March\n",
       "2       August\n",
       "3    September\n",
       "4       August\n",
       "Name: month_of birth, dtype: object"
      ]
     },
     "execution_count": 51,
     "metadata": {},
     "output_type": "execute_result"
    }
   ],
   "source": [
    "df['month_of birth'].head()"
   ]
  },
  {
   "cell_type": "markdown",
   "id": "21fc1968",
   "metadata": {},
   "source": [
    "### Practice!\n",
    "\n",
    "Make Gender categories, is there an order to that?<br>\n",
    "#Add another value to the categories by saying \"Non-binary\" or just \"Prefere not to say\""
   ]
  },
  {
   "cell_type": "code",
   "execution_count": 27,
   "id": "0c7bb317",
   "metadata": {},
   "outputs": [
    {
     "data": {
      "text/plain": [
       "F      208\n",
       "M      187\n",
       "Any      0\n",
       "Name: sex, dtype: int64"
      ]
     },
     "execution_count": 27,
     "metadata": {},
     "output_type": "execute_result"
    }
   ],
   "source": [
    "df['sex']= pd.Categorical(df['sex'], categories=[\"F\",\"M\", \"Any\"])\n",
    "df['sex'].value_counts()"
   ]
  },
  {
   "cell_type": "code",
   "execution_count": 28,
   "id": "7e0254af",
   "metadata": {},
   "outputs": [
    {
     "data": {
      "text/plain": [
       "149.5672397394187"
      ]
     },
     "execution_count": 28,
     "metadata": {},
     "output_type": "execute_result"
    }
   ],
   "source": [
    "df['normal'].mean()"
   ]
  },
  {
   "cell_type": "code",
   "execution_count": 29,
   "id": "1410f170",
   "metadata": {},
   "outputs": [
    {
     "data": {
      "text/plain": [
       "0      134.041757\n",
       "1      137.109776\n",
       "2      137.641189\n",
       "3      138.416507\n",
       "4      138.599022\n",
       "          ...    \n",
       "390    161.736360\n",
       "391    161.749504\n",
       "392    164.403247\n",
       "393    165.923673\n",
       "394    167.020580\n",
       "Length: 395, dtype: float64"
      ]
     },
     "execution_count": 29,
     "metadata": {},
     "output_type": "execute_result"
    }
   ],
   "source": [
    "df['normal'].mode()"
   ]
  },
  {
   "cell_type": "code",
   "execution_count": 52,
   "id": "5275ba0f",
   "metadata": {},
   "outputs": [
    {
     "data": {
      "text/plain": [
       "<AxesSubplot:ylabel='Frequency'>"
      ]
     },
     "execution_count": 52,
     "metadata": {},
     "output_type": "execute_result"
    },
    {
     "data": {
      "image/png": "[encoded data removed]",
      "text/plain": [
       "<Figure size 432x288 with 1 Axes>"
      ]
     },
     "metadata": {
      "needs_background": "light"
     },
     "output_type": "display_data"
    }
   ],
   "source": [
    "df['normal'].plot(kind='hist')"
   ]
  },
  {
   "cell_type": "code",
   "execution_count": 31,
   "id": "986ee932",
   "metadata": {},
   "outputs": [
    {
     "data": {
      "text/plain": [
       "<matplotlib.legend.Legend at 0x1cc043e9970>"
      ]
     },
     "execution_count": 31,
     "metadata": {},
     "output_type": "execute_result"
    },
    {
     "data": {
      "image/png": "[encoded data removed]",
      "text/plain": [
       "<Figure size 432x288 with 1 Axes>"
      ]
     },
     "metadata": {
      "needs_background": "light"
     },
     "output_type": "display_data"
    }
   ],
   "source": [
    "df['normal'].plot(kind='kde')\n",
    "plt.axvline(df['normal'].median(), c='b', label='Median')\n",
    "plt.axvline(df['normal'].mean(), c='g', label='Mean')\n",
    "\n",
    "plt.legend()"
   ]
  },
  {
   "cell_type": "code",
   "execution_count": null,
   "id": "001a2443",
   "metadata": {},
   "outputs": [],
   "source": [
    "\n"
   ]
  },
  {
   "cell_type": "code",
   "execution_count": 66,
   "id": "2aa822df",
   "metadata": {},
   "outputs": [
    {
     "data": {
      "text/plain": [
       "<matplotlib.legend.Legend at 0x1cc0487aaf0>"
      ]
     },
     "execution_count": 66,
     "metadata": {},
     "output_type": "execute_result"
    },
    {
     "data": {
      "image/png": "[encoded data removed]",
      "text/plain": [
       "<Figure size 1080x288 with 1 Axes>"
      ]
     },
     "metadata": {
      "needs_background": "light"
     },
     "output_type": "display_data"
    }
   ],
   "source": [
    "plt.figure(figsize=(15,4))#this expands the size of the graph\n",
    "df['normal'].plot(kind='kde')\n",
    "\n",
    "plt.axvline(df['normal'].median(), c= 'b', label= 'Median')\n",
    "plt.axvline(df['normal'].mean(), c= 'g', label= 'Mean')\n",
    "plt.axvline(df['normal'].mode()[0], c= 'r', label= 'Mode')\n",
    "\n",
    "plt.axvspan(xmin=df['normal'].mean()-3*df['normal'].std(), xmax=df['normal'].mean()+3*df['normal'].std(), color = 'y', alpha= 0.75)\n",
    "plt.axvspan(xmin=df['normal'].mean()-2*df['normal'].std(), xmax=df['normal'].mean()+2*df['normal'].std(), color = 'y', alpha= 0.15)\n",
    "plt.axvspan(xmin=df['normal'].mean()-df['normal'].std(), xmax=df['normal'].mean()+1*df['normal'].std(), color = 'y', alpha= 0.3)\n",
    "\n",
    "plt.legend()\n"
   ]
  },
  {
   "cell_type": "code",
   "execution_count": 67,
   "id": "b059e190",
   "metadata": {},
   "outputs": [
    {
     "name": "stdout",
     "output_type": "stream",
     "text": [
      "47.58006265132869\n",
      "6.288267030694535\n"
     ]
    }
   ],
   "source": [
    "print(df['weird_dist'].mean())\n",
    "print(df['weird_dist'].median())"
   ]
  },
  {
   "cell_type": "code",
   "execution_count": 68,
   "id": "fae018fd",
   "metadata": {},
   "outputs": [
    {
     "name": "stdout",
     "output_type": "stream",
     "text": [
      "149.5672397394187\n",
      "15.631261923959617\n",
      "5.210420641319872\n"
     ]
    }
   ],
   "source": [
    "print(df['normal'].mean())\n",
    "print(3*df['normal'].std())\n",
    "print(df['normal'].std())"
   ]
  },
  {
   "cell_type": "code",
   "execution_count": 73,
   "id": "84aa93ab",
   "metadata": {},
   "outputs": [
    {
     "data": {
      "text/plain": [
       "133.9359778154591"
      ]
     },
     "execution_count": 73,
     "metadata": {},
     "output_type": "execute_result"
    }
   ],
   "source": [
    "lower_outlier_limit = df['normal'].mean()-3*df['normal'].std()\n",
    "lower_outlier_limit"
   ]
  },
  {
   "cell_type": "code",
   "execution_count": 72,
   "id": "07df1379",
   "metadata": {},
   "outputs": [
    {
     "data": {
      "text/plain": [
       "165.19850166337832"
      ]
     },
     "execution_count": 72,
     "metadata": {},
     "output_type": "execute_result"
    }
   ],
   "source": [
    "upper_outlier_limit = df['normal'].mean()+3*df['normal'].std()\n",
    "upper_outlier_limit"
   ]
  },
  {
   "cell_type": "code",
   "execution_count": 75,
   "id": "dddf784c",
   "metadata": {},
   "outputs": [],
   "source": [
    "df['new_normal'] = [int(x) for x in np.random.normal(480,80,size=len(df))]"
   ]
  },
  {
   "cell_type": "code",
   "execution_count": 77,
   "id": "feace659",
   "metadata": {},
   "outputs": [
    {
     "data": {
      "text/plain": [
       "<matplotlib.legend.Legend at 0x1cc04b11be0>"
      ]
     },
     "execution_count": 77,
     "metadata": {},
     "output_type": "execute_result"
    },
    {
     "data": {
      "image/png": "[encoded data removed]",
      "text/plain": [
       "<Figure size 1080x288 with 1 Axes>"
      ]
     },
     "metadata": {
      "needs_background": "light"
     },
     "output_type": "display_data"
    }
   ],
   "source": [
    "plt.figure(figsize=(15,4))#this expands the size of the graph\n",
    "df['new_normal'].plot(kind='kde')\n",
    "plt.axvline(df['new_normal'].median(), c= 'b', label= 'Median')\n",
    "plt.axvline(df['new_normal'].mean(), c= 'g', label= 'Mean')\n",
    "plt.axvline(df['new_normal'].mode()[0], c= 'r', label= 'Mode')\n",
    "plt.axvspan(xmin=df['new_normal'].mean()-3*df['new_normal'].std(), xmax=df['new_normal'].mean()+3*df['new_normal'].std(), color = 'g', alpha= 0.75)\n",
    "plt.axvspan(xmin=df['new_normal'].mean()-2*df['new_normal'].std(), xmax=df['new_normal'].mean()+2*df['new_normal'].std(), color = 'y', alpha= 0.15)\n",
    "plt.axvspan(xmin=df['new_normal'].mean()-df['new_normal'].std(), xmax=df['new_normal'].mean()+1*df['new_normal'].std(), color = 'r', alpha= 0.3)\n",
    "\n",
    "plt.legend()"
   ]
  },
  {
   "cell_type": "code",
   "execution_count": 79,
   "id": "dcfa9356",
   "metadata": {},
   "outputs": [
    {
     "name": "stdout",
     "output_type": "stream",
     "text": [
      "47.58006265132869\n",
      "6.288267030694535\n"
     ]
    }
   ],
   "source": [
    "print(df['weird_dist'].mean())\n",
    "print(df['weird_dist'].median())"
   ]
  },
  {
   "cell_type": "code",
   "execution_count": 81,
   "id": "0bf87bad",
   "metadata": {},
   "outputs": [
    {
     "data": {
      "text/plain": [
       "<matplotlib.legend.Legend at 0x1cc04c47220>"
      ]
     },
     "execution_count": 81,
     "metadata": {},
     "output_type": "execute_result"
    },
    {
     "data": {
      "image/png": "[encoded data removed]",
      "text/plain": [
       "<Figure size 432x288 with 1 Axes>"
      ]
     },
     "metadata": {
      "needs_background": "light"
     },
     "output_type": "display_data"
    }
   ],
   "source": [
    "df['weird_dist'].plot(kind='hist')\n",
    "plt.axvline(df['weird_dist'].median(), c= 'b', label= 'Median')\n",
    "plt.axvline(df['weird_dist'].mean(), c= 'g', label= 'Mean')\n",
    "plt.axvline(df['weird_dist'].mode()[0], c= 'r', label= 'Mode')\n",
    "plt.legend()"
   ]
  },
  {
   "cell_type": "code",
   "execution_count": null,
   "id": "881fb65c",
   "metadata": {},
   "outputs": [],
   "source": []
  }
 ],
 "metadata": {
  "kernelspec": {
   "display_name": "Python 3",
   "language": "python",
   "name": "python3"
  },
  "language_info": {
   "codemirror_mode": {
    "name": "ipython",
    "version": 3
   },
   "file_extension": ".py",
   "mimetype": "text/x-python",
   "name": "python",
   "nbconvert_exporter": "python",
   "pygments_lexer": "ipython3",
   "version": "3.8.8"
  }
 },
 "nbformat": 4,
 "nbformat_minor": 5
}
